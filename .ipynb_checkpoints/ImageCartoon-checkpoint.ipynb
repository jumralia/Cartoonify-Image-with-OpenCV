{
 "cells": [
  {
   "cell_type": "code",
   "execution_count": 1,
   "metadata": {},
   "outputs": [],
   "source": [
    "#for image processing\n",
    "import cv2\n",
    "\n",
    "#to open the filebox\n",
    "import easygui\n",
    "\n",
    "#to store image\n",
    "import numpy as np\n",
    "\n",
    "#to read image stored at particular path\n",
    "import imageio"
   ]
  },
  {
   "cell_type": "code",
   "execution_count": 2,
   "metadata": {},
   "outputs": [],
   "source": [
    "import sys\n",
    "import matplotlib.pyplot as plt\n",
    "import os\n",
    "import tkinter as tk\n",
    "from tkinter import filedialog\n",
    "from tkinter import *\n",
    "from PIL import ImageTk, Image"
   ]
  },
  {
   "cell_type": "code",
   "execution_count": 4,
   "metadata": {},
   "outputs": [],
   "source": [
    "\"\"\" fileopenbox opens the box to choose file and help us store file path as string \"\"\"\n",
    "def upload():\n",
    "    ImagePath=easygui.fileopenbox()\n",
    "    cartoonify(ImagePath)"
   ]
  },
  {
   "cell_type": "code",
   "execution_count": 5,
   "metadata": {},
   "outputs": [],
   "source": [
    "# Read the image\n",
    "def cartoonify(ImagePath):\n",
    "    # read the image\n",
    "    originalimage = cv2.imread(ImagePath)\n",
    "    originalimage = cv2.cvtColor(originalimage, cv2.COLOR_BGR2RGB)\n",
    "    #print(image)  # image is stored in form of numbers\n",
    "    \n",
    "    # confirm that image is chosen\n",
    "    if originalimage is None:\n",
    "        print(\"Can not find any image. Choose appropriate file\")\n",
    "        sys.exit()\n",
    "\n",
    "    ReSized1 = cv2.resize(originalimage, (960, 540))\n",
    "    #plt.imshow(ReSized1, cmap='gray')\n",
    "    \n",
    "    #converting an image to grayscale\n",
    "    grayScaleImage= cv2.cvtColor(originalimage, cv2.COLOR_BGR2GRAY)\n",
    "    ReSized2 = cv2.resize(grayScaleImage, (960, 540))\n",
    "    #plt.imshow(ReSized2, cmap='gray')\n",
    "    \n",
    "    #applying median blur to smoothen an image\n",
    "    smoothGrayScale = cv2.medianBlur(grayScaleImage, 5)\n",
    "    ReSized3 = cv2.resize(smoothGrayScale, (960, 540))\n",
    "    #plt.imshow(ReSized3, cmap='gray')\n",
    "    \n",
    "    #retrieving the edges for cartoon effect by using thresholding technique\n",
    "    getEdge = cv2.adaptiveThreshold(smoothGrayScale, 255, cv2.ADAPTIVE_THRESH_MEAN_C, \n",
    "                                    cv2.THRESH_BINARY, 9, 9)\n",
    "\n",
    "    ReSized4 = cv2.resize(getEdge, (960, 540))\n",
    "    #plt.imshow(ReSized4, cmap='gray')\n",
    "    \n",
    "    #applying bilateral filter to remove noise and keep edge sharp as required\n",
    "    colorImage = cv2.bilateralFilter(originalimage, 9, 300, 300)\n",
    "    ReSized5 = cv2.resize(colorImage, (960, 540))\n",
    "    #plt.imshow(ReSized5, cmap='gray')\n",
    "    \n",
    "    #masking edged image with our \"BEAUTIFY\" image\n",
    "    cartoonImage = cv2.bitwise_and(colorImage, colorImage, mask=getEdge)\n",
    "\n",
    "    ReSized6 = cv2.resize(cartoonImage, (960, 540))\n",
    "    #plt.imshow(ReSized6, cmap='gray')\n",
    "    \n",
    "    # Plotting the whole transition\n",
    "    images=[ReSized1, ReSized2, ReSized3, ReSized4, ReSized5, ReSized6]\n",
    "\n",
    "    fig, axes = plt.subplots(3,2, figsize=(8,8), subplot_kw={'xticks':[], 'yticks':[]}, gridspec_kw=dict(hspace=0.1, wspace=0.1))\n",
    "    for i, ax in enumerate(axes.flat):\n",
    "        ax.imshow(images[i], cmap='gray')"
   ]
  },
  {
   "cell_type": "code",
   "execution_count": 7,
   "metadata": {},
   "outputs": [],
   "source": [
    "# Function for saving button\n",
    "    \n",
    "def save(ReSized6, ImagePath):\n",
    "    \n",
    "    #saving an image using imwrite()\n",
    "    newName=\"cartoon_Image\"\n",
    "    path1 = os.path.dirname(ImagePath)\n",
    "    extension=os.path.splitext(ImagePath)[1]\n",
    "    path = os.path.join(path1, newName+extension)\n",
    "    cv2.imwrite(path, cv2.cvtColor(ReSized6, cv2.COLOR_RGB2BGR))\n",
    "    I= \"Image saved by name \" + newName +\" at \"+ path\n",
    "    tk.messagebox.showinfo(title=None, message=I)"
   ]
  },
  {
   "cell_type": "code",
   "execution_count": 10,
   "metadata": {},
   "outputs": [],
   "source": [
    "# Make main window\n",
    "\n",
    "top=tk.Tk()\n",
    "top.geometry('400x400')\n",
    "top.title('Cartoony your Image !')\n",
    "top.configure(background='white')\n",
    "label=Label(top,background='#CDCDCD', font=('calibri',20,'bold'))"
   ]
  },
  {
   "cell_type": "code",
   "execution_count": 11,
   "metadata": {},
   "outputs": [],
   "source": [
    "# Make cartoonify button in the main window\n",
    "\n",
    "upload=Button(top,text=\"Cartoonify an Image\",command=upload,padx=10,pady=5)\n",
    "upload.configure(background='#364156', foreground='white',font=('calibri',10,'bold'))\n",
    "upload.pack(side=TOP,pady=50)"
   ]
  },
  {
   "cell_type": "code",
   "execution_count": null,
   "metadata": {},
   "outputs": [],
   "source": [
    "# Make save button in main window\n",
    "\n",
    "save1=Button(top,text=\"Save cartoon image\",command=lambda: save(ReSized6, ImagePath),padx=30,pady=5)\n",
    "save1.configure(background='#364156', foreground='white',font=('calibri',10,'bold'))\n",
    "save1.pack(side=TOP,pady=50)\n",
    "\n",
    "plt.show()"
   ]
  }
 ],
 "metadata": {
  "kernelspec": {
   "display_name": "Python 3",
   "language": "python",
   "name": "python3"
  },
  "language_info": {
   "codemirror_mode": {
    "name": "ipython",
    "version": 3
   },
   "file_extension": ".py",
   "mimetype": "text/x-python",
   "name": "python",
   "nbconvert_exporter": "python",
   "pygments_lexer": "ipython3",
   "version": "3.7.3"
  }
 },
 "nbformat": 4,
 "nbformat_minor": 2
}
